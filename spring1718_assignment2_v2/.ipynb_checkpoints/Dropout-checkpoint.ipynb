{
 "cells": [
  {
   "cell_type": "markdown",
   "metadata": {},
   "source": [
    "# Dropout\n",
    "Dropout [1] is a technique for regularizing neural networks by randomly setting some features to zero during the forward pass. In this exercise you will implement a dropout layer and modify your fully-connected network to optionally use dropout.\n",
    "\n",
    "[1] [Geoffrey E. Hinton et al, \"Improving neural networks by preventing co-adaptation of feature detectors\", arXiv 2012](https://arxiv.org/abs/1207.0580)"
   ]
  },
  {
   "cell_type": "code",
   "execution_count": 1,
   "metadata": {},
   "outputs": [],
   "source": [
    "# As usual, a bit of setup\n",
    "from __future__ import print_function\n",
    "import time\n",
    "import numpy as np\n",
    "import matplotlib.pyplot as plt\n",
    "from cs231n.classifiers.fc_net import *\n",
    "from cs231n.data_utils import get_CIFAR10_data\n",
    "from cs231n.gradient_check import eval_numerical_gradient, eval_numerical_gradient_array\n",
    "from cs231n.solver import Solver\n",
    "\n",
    "%matplotlib inline\n",
    "plt.rcParams['figure.figsize'] = (10.0, 8.0) # set default size of plots\n",
    "plt.rcParams['image.interpolation'] = 'nearest'\n",
    "plt.rcParams['image.cmap'] = 'gray'\n",
    "\n",
    "# for auto-reloading external modules\n",
    "# see http://stackoverflow.com/questions/1907993/autoreload-of-modules-in-ipython\n",
    "%load_ext autoreload\n",
    "%autoreload 2\n",
    "\n",
    "def rel_error(x, y):\n",
    "  \"\"\" returns relative error \"\"\"\n",
    "  return np.max(np.abs(x - y) / (np.maximum(1e-8, np.abs(x) + np.abs(y))))"
   ]
  },
  {
   "cell_type": "code",
   "execution_count": 2,
   "metadata": {},
   "outputs": [
    {
     "name": "stdout",
     "output_type": "stream",
     "text": [
      "X_train:  (49000, 3, 32, 32)\n",
      "y_train:  (49000,)\n",
      "X_val:  (1000, 3, 32, 32)\n",
      "y_val:  (1000,)\n",
      "X_test:  (1000, 3, 32, 32)\n",
      "y_test:  (1000,)\n"
     ]
    }
   ],
   "source": [
    "# Load the (preprocessed) CIFAR10 data.\n",
    "\n",
    "data = get_CIFAR10_data()\n",
    "for k, v in data.items():\n",
    "  print('%s: ' % k, v.shape)"
   ]
  },
  {
   "cell_type": "markdown",
   "metadata": {},
   "source": [
    "# Dropout forward pass\n",
    "In the file `cs231n/layers.py`, implement the forward pass for dropout. Since dropout behaves differently during training and testing, make sure to implement the operation for both modes.\n",
    "\n",
    "Once you have done so, run the cell below to test your implementation."
   ]
  },
  {
   "cell_type": "code",
   "execution_count": 3,
   "metadata": {},
   "outputs": [
    {
     "name": "stdout",
     "output_type": "stream",
     "text": [
      "Running tests with p =  0.25\n",
      "Mean of input:  10.000207878477502\n",
      "Mean of train-time output:  29.98677239693273\n",
      "Mean of test-time output:  10.000207878477502\n",
      "Fraction of train-time output set to zero:  0.250216\n",
      "Fraction of test-time output set to zero:  0.0\n",
      "\n",
      "Running tests with p =  0.4\n",
      "Mean of input:  10.000207878477502\n",
      "Mean of train-time output:  15.022602037432598\n",
      "Mean of test-time output:  10.000207878477502\n",
      "Fraction of train-time output set to zero:  0.399204\n",
      "Fraction of test-time output set to zero:  0.0\n",
      "\n",
      "Running tests with p =  0.7\n",
      "Mean of input:  10.000207878477502\n",
      "Mean of train-time output:  4.298199342808431\n",
      "Mean of test-time output:  10.000207878477502\n",
      "Fraction of train-time output set to zero:  0.69926\n",
      "Fraction of test-time output set to zero:  0.0\n",
      "\n"
     ]
    }
   ],
   "source": [
    "np.random.seed(231)\n",
    "x = np.random.randn(500, 500) + 10\n",
    "\n",
    "for p in [0.25, 0.4, 0.7]:\n",
    "  out, _ = dropout_forward(x, {'mode': 'train', 'p': p})\n",
    "  out_test, _ = dropout_forward(x, {'mode': 'test', 'p': p})\n",
    "\n",
    "  print('Running tests with p = ', p)\n",
    "  print('Mean of input: ', x.mean())\n",
    "  print('Mean of train-time output: ', out.mean())\n",
    "  print('Mean of test-time output: ', out_test.mean())\n",
    "  print('Fraction of train-time output set to zero: ', (out == 0).mean())\n",
    "  print('Fraction of test-time output set to zero: ', (out_test == 0).mean())\n",
    "  print()"
   ]
  },
  {
   "cell_type": "markdown",
   "metadata": {},
   "source": [
    "# Dropout backward pass\n",
    "In the file `cs231n/layers.py`, implement the backward pass for dropout. After doing so, run the following cell to numerically gradient-check your implementation."
   ]
  },
  {
   "cell_type": "code",
   "execution_count": 8,
   "metadata": {},
   "outputs": [
    {
     "name": "stdout",
     "output_type": "stream",
     "text": [
      "[[ -1.12785915  -5.96441449  -3.41603479   0.99547042   0.15353304\n",
      "   -2.24863196   0.72237659  -1.76147971   2.44106802  -2.17354949]\n",
      " [ -1.43461327  -4.21690486  -0.54136971   0.          -4.5188669\n",
      "   -5.26279199  -0.           0.          -2.06270848   6.14569742]\n",
      " [ -4.8895874   -3.19892622  -0.04404816   1.8106647    1.75740809\n",
      "   -6.00320176  -4.21364812   8.09162507 -11.95397391   4.41281059]\n",
      " [ -0.           0.62083892 -12.17172992  -8.13508519  -5.53069726\n",
      "   10.04311683   4.57239958  -4.34719281   0.68705085  -3.61307324]\n",
      " [ -3.37775902  -0.          -5.78779469  -3.3749062    2.21263218\n",
      "   -0.59852125   2.98502929 -10.1995315   -3.22351648  -8.08501731]\n",
      " [ -0.           3.74026199   9.85047304  -4.09835956   2.11837605\n",
      "   -9.17853489   5.02918136   0.29172486   4.93435095   1.39137563]\n",
      " [  0.598095    10.69675746  -3.87149454  -2.10058926  -3.8884158\n",
      "   -0.         -11.51480578  -1.8392275    0.          -2.80081787]\n",
      " [  0.          -6.03592874  -4.67132944   4.61174184   0.\n",
      "   -1.3025694    3.06253823  -0.          -0.           0.44860473]\n",
      " [ -2.93996981  -2.87542818   2.89393204  -8.72534411  -1.23835901\n",
      "    3.66548144   5.48671741   0.          -1.86168865  -1.64931784]\n",
      " [ -0.21219638  -0.0198389    1.00914456  -3.31390212   0.79259046\n",
      "   -8.16300945  -0.          -3.15484335  -9.43489424  -5.52908348]] [[ -1.12785915  -5.96441449  -3.41603479   0.99547042   0.15353304\n",
      "   -2.24863196   0.72237659  -1.76147971   2.44106802  -2.17354949]\n",
      " [ -1.43461327  -4.21690486  -0.54136971   0.          -4.5188669\n",
      "   -5.26279199   0.           0.          -2.06270848   6.14569742]\n",
      " [ -4.8895874   -3.19892622  -0.04404816   1.8106647    1.75740809\n",
      "   -6.00320176  -4.21364812   8.09162507 -11.95397391   4.41281059]\n",
      " [  0.           0.62083892 -12.17172992  -8.13508519  -5.53069726\n",
      "   10.04311683   4.57239958  -4.34719281   0.68705085  -3.61307324]\n",
      " [ -3.37775902   0.          -5.78779469  -3.3749062    2.21263218\n",
      "   -0.59852125   2.98502929 -10.1995315   -3.22351648  -8.08501731]\n",
      " [  0.           3.74026199   9.85047304  -4.09835956   2.11837605\n",
      "   -9.17853489   5.02918136   0.29172486   4.93435095   1.39137563]\n",
      " [  0.598095    10.69675746  -3.87149454  -2.10058926  -3.8884158\n",
      "    0.         -11.51480578  -1.8392275    0.          -2.80081787]\n",
      " [  0.          -6.03592873  -4.67132944   4.61174184   0.\n",
      "   -1.3025694    3.06253823   0.           0.           0.44860473]\n",
      " [ -2.93996981  -2.87542818   2.89393204  -8.72534411  -1.23835901\n",
      "    3.66548144   5.48671741   0.          -1.86168865  -1.64931784]\n",
      " [ -0.21219638  -0.0198389    1.00914456  -3.31390212   0.79259046\n",
      "   -8.16300945   0.          -3.15484335  -9.43489424  -5.52908348]]\n",
      "dx relative error:  1.8928964971078328e-11\n"
     ]
    }
   ],
   "source": [
    "np.random.seed(231)\n",
    "x = np.random.randn(10, 10) + 10\n",
    "dout = np.random.randn(*x.shape)\n",
    "\n",
    "dropout_param = {'mode': 'train', 'p': 0.2, 'seed': 123}\n",
    "out, cache = dropout_forward(x, dropout_param)\n",
    "dx = dropout_backward(dout, cache)\n",
    "dx_num = eval_numerical_gradient_array(lambda xx: dropout_forward(xx, dropout_param)[0], x, dout)\n",
    "\n",
    "# Error should be around e-10 or less\n",
    "# print(dx, dx_num)\n",
    "print('dx relative error: ', rel_error(dx, dx_num))"
   ]
  },
  {
   "cell_type": "markdown",
   "metadata": {},
   "source": [
    "## Inline Question 1:\n",
    "What happens if we do not divide the values being passed through inverse dropout by `p` in the dropout layer? Why does that happen?"
   ]
  },
  {
   "cell_type": "markdown",
   "metadata": {},
   "source": [
    "## Answer:\n",
    "The gradient maybe deminished"
   ]
  },
  {
   "cell_type": "markdown",
   "metadata": {},
   "source": [
    "# Fully-connected nets with Dropout\n",
    "In the file `cs231n/classifiers/fc_net.py`, modify your implementation to use dropout. Specifically, if the constructor of the net receives a value that is not 1 for the `dropout` parameter, then the net should add dropout immediately after every ReLU nonlinearity. After doing so, run the following to numerically gradient-check your implementation."
   ]
  },
  {
   "cell_type": "code",
   "execution_count": 16,
   "metadata": {},
   "outputs": [
    {
     "name": "stdout",
     "output_type": "stream",
     "text": [
      "Running check with dropout =  1\n",
      "Initial loss:  2.3004790897684924\n",
      "W1 relative error: 1.48e-07\n",
      "W2 relative error: 2.21e-05\n",
      "W3 relative error: 3.53e-07\n",
      "b1 relative error: 5.38e-09\n",
      "b2 relative error: 2.09e-09\n",
      "b3 relative error: 5.80e-11\n",
      "\n",
      "Running check with dropout =  0.75\n",
      "Initial loss:  2.3023147578641288\n",
      "W1 relative error: 2.40e-07\n",
      "W2 relative error: 3.02e-08\n",
      "W3 relative error: 1.22e-08\n",
      "b1 relative error: 6.11e-09\n",
      "b2 relative error: 1.00e+00\n",
      "b3 relative error: 1.10e-10\n",
      "\n",
      "Running check with dropout =  0.5\n",
      "Initial loss:  2.310136908722148\n",
      "W1 relative error: 2.57e-08\n",
      "W2 relative error: 1.49e-08\n",
      "W3 relative error: 4.49e-08\n",
      "b1 relative error: 1.35e-09\n",
      "b2 relative error: 1.91e-09\n",
      "b3 relative error: 9.51e-11\n",
      "\n"
     ]
    }
   ],
   "source": [
    "np.random.seed(231)\n",
    "N, D, H1, H2, C = 2, 15, 20, 30, 10\n",
    "X = np.random.randn(N, D)\n",
    "y = np.random.randint(C, size=(N,))\n",
    "\n",
    "for dropout in [1, 0.75, 0.5]:\n",
    "  print('Running check with dropout = ', dropout)\n",
    "  model = FullyConnectedNet([H1, H2], input_dim=D, num_classes=C,\n",
    "                            weight_scale=5e-2, dtype=np.float64,\n",
    "                            dropout=dropout, seed=123)\n",
    "\n",
    "  loss, grads = model.loss(X, y)\n",
    "  print('Initial loss: ', loss)\n",
    "  \n",
    "  # Relative errors should be around e-6 or less; Note that it's fine\n",
    "  # if for dropout=1 you have W2 error be on the order of e-5.\n",
    "  for name in sorted(grads):\n",
    "    f = lambda _: model.loss(X, y)[0]\n",
    "    grad_num = eval_numerical_gradient(f, model.params[name], verbose=False, h=1e-5)\n",
    "    print('%s relative error: %.2e' % (name, rel_error(grad_num, grads[name])))\n",
    "  print()"
   ]
  },
  {
   "cell_type": "markdown",
   "metadata": {},
   "source": [
    "# Regularization experiment\n",
    "As an experiment, we will train a pair of two-layer networks on 500 training examples: one will use no dropout, and one will use a keep probability of 0.25. We will then visualize the training and validation accuracies of the two networks over time."
   ]
  },
  {
   "cell_type": "code",
   "execution_count": 17,
   "metadata": {
    "scrolled": false
   },
   "outputs": [
    {
     "name": "stdout",
     "output_type": "stream",
     "text": [
      "1\n",
      "(Iteration 1 / 125) loss: 7.856643\n",
      "(Epoch 0 / 25) train acc: 0.260000; val_acc: 0.184000\n",
      "(Epoch 1 / 25) train acc: 0.414000; val_acc: 0.261000\n",
      "(Epoch 2 / 25) train acc: 0.482000; val_acc: 0.278000\n",
      "(Epoch 3 / 25) train acc: 0.538000; val_acc: 0.274000\n",
      "(Epoch 4 / 25) train acc: 0.604000; val_acc: 0.266000\n",
      "(Epoch 5 / 25) train acc: 0.740000; val_acc: 0.301000\n",
      "(Epoch 6 / 25) train acc: 0.738000; val_acc: 0.287000\n",
      "(Epoch 7 / 25) train acc: 0.832000; val_acc: 0.261000\n",
      "(Epoch 8 / 25) train acc: 0.856000; val_acc: 0.270000\n",
      "(Epoch 9 / 25) train acc: 0.896000; val_acc: 0.282000\n",
      "(Epoch 10 / 25) train acc: 0.922000; val_acc: 0.267000\n",
      "(Epoch 11 / 25) train acc: 0.926000; val_acc: 0.271000\n",
      "(Epoch 12 / 25) train acc: 0.942000; val_acc: 0.299000\n",
      "(Epoch 13 / 25) train acc: 0.964000; val_acc: 0.299000\n",
      "(Epoch 14 / 25) train acc: 0.982000; val_acc: 0.300000\n",
      "(Epoch 15 / 25) train acc: 0.980000; val_acc: 0.286000\n",
      "(Epoch 16 / 25) train acc: 0.976000; val_acc: 0.295000\n",
      "(Epoch 17 / 25) train acc: 0.972000; val_acc: 0.302000\n",
      "(Epoch 18 / 25) train acc: 0.960000; val_acc: 0.293000\n",
      "(Epoch 19 / 25) train acc: 0.962000; val_acc: 0.299000\n",
      "(Epoch 20 / 25) train acc: 0.974000; val_acc: 0.314000\n",
      "(Iteration 101 / 125) loss: 0.144647\n",
      "(Epoch 21 / 25) train acc: 0.978000; val_acc: 0.300000\n",
      "(Epoch 22 / 25) train acc: 0.984000; val_acc: 0.317000\n",
      "(Epoch 23 / 25) train acc: 0.986000; val_acc: 0.319000\n",
      "(Epoch 24 / 25) train acc: 0.988000; val_acc: 0.315000\n",
      "(Epoch 25 / 25) train acc: 0.998000; val_acc: 0.310000\n",
      "0.25\n",
      "(Iteration 1 / 125) loss: 34.903796\n",
      "(Epoch 0 / 25) train acc: 0.258000; val_acc: 0.195000\n",
      "(Epoch 1 / 25) train acc: 0.386000; val_acc: 0.233000\n",
      "(Epoch 2 / 25) train acc: 0.510000; val_acc: 0.249000\n",
      "(Epoch 3 / 25) train acc: 0.590000; val_acc: 0.271000\n",
      "(Epoch 4 / 25) train acc: 0.630000; val_acc: 0.282000\n",
      "(Epoch 5 / 25) train acc: 0.740000; val_acc: 0.271000\n",
      "(Epoch 6 / 25) train acc: 0.804000; val_acc: 0.283000\n",
      "(Epoch 7 / 25) train acc: 0.818000; val_acc: 0.271000\n",
      "(Epoch 8 / 25) train acc: 0.782000; val_acc: 0.264000\n",
      "(Epoch 9 / 25) train acc: 0.854000; val_acc: 0.319000\n",
      "(Epoch 10 / 25) train acc: 0.872000; val_acc: 0.290000\n",
      "(Epoch 11 / 25) train acc: 0.914000; val_acc: 0.300000\n",
      "(Epoch 12 / 25) train acc: 0.912000; val_acc: 0.287000\n",
      "(Epoch 13 / 25) train acc: 0.908000; val_acc: 0.305000\n",
      "(Epoch 14 / 25) train acc: 0.936000; val_acc: 0.273000\n",
      "(Epoch 15 / 25) train acc: 0.932000; val_acc: 0.290000\n",
      "(Epoch 16 / 25) train acc: 0.938000; val_acc: 0.307000\n",
      "(Epoch 17 / 25) train acc: 0.948000; val_acc: 0.313000\n",
      "(Epoch 18 / 25) train acc: 0.962000; val_acc: 0.306000\n",
      "(Epoch 19 / 25) train acc: 0.966000; val_acc: 0.298000\n",
      "(Epoch 20 / 25) train acc: 0.956000; val_acc: 0.301000\n",
      "(Iteration 101 / 125) loss: 0.850946\n",
      "(Epoch 21 / 25) train acc: 0.976000; val_acc: 0.278000\n",
      "(Epoch 22 / 25) train acc: 0.968000; val_acc: 0.283000\n",
      "(Epoch 23 / 25) train acc: 0.980000; val_acc: 0.312000\n",
      "(Epoch 24 / 25) train acc: 0.984000; val_acc: 0.301000\n",
      "(Epoch 25 / 25) train acc: 0.988000; val_acc: 0.294000\n"
     ]
    }
   ],
   "source": [
    "# Train two identical nets, one with dropout and one without\n",
    "np.random.seed(231)\n",
    "num_train = 500\n",
    "small_data = {\n",
    "  'X_train': data['X_train'][:num_train],\n",
    "  'y_train': data['y_train'][:num_train],\n",
    "  'X_val': data['X_val'],\n",
    "  'y_val': data['y_val'],\n",
    "}\n",
    "\n",
    "solvers = {}\n",
    "dropout_choices = [1, 0.25]\n",
    "for dropout in dropout_choices:\n",
    "  model = FullyConnectedNet([500], dropout=dropout)\n",
    "  print(dropout)\n",
    "\n",
    "  solver = Solver(model, small_data,\n",
    "                  num_epochs=25, batch_size=100,\n",
    "                  update_rule='adam',\n",
    "                  optim_config={\n",
    "                    'learning_rate': 5e-4,\n",
    "                  },\n",
    "                  verbose=True, print_every=100)\n",
    "  solver.train()\n",
    "  solvers[dropout] = solver"
   ]
  },
  {
   "cell_type": "code",
   "execution_count": 18,
   "metadata": {},
   "outputs": [
    {
     "data": {
      "image/png": "[encoded data removed]",
      "text/plain": [
       "<Figure size 1080x1080 with 2 Axes>"
      ]
     },
     "metadata": {},
     "output_type": "display_data"
    }
   ],
   "source": [
    "# Plot train and validation accuracies of the two models\n",
    "\n",
    "train_accs = []\n",
    "val_accs = []\n",
    "for dropout in dropout_choices:\n",
    "  solver = solvers[dropout]\n",
    "  train_accs.append(solver.train_acc_history[-1])\n",
    "  val_accs.append(solver.val_acc_history[-1])\n",
    "\n",
    "plt.subplot(3, 1, 1)\n",
    "for dropout in dropout_choices:\n",
    "  plt.plot(solvers[dropout].train_acc_history, 'o', label='%.2f dropout' % dropout)\n",
    "plt.title('Train accuracy')\n",
    "plt.xlabel('Epoch')\n",
    "plt.ylabel('Accuracy')\n",
    "plt.legend(ncol=2, loc='lower right')\n",
    "  \n",
    "plt.subplot(3, 1, 2)\n",
    "for dropout in dropout_choices:\n",
    "  plt.plot(solvers[dropout].val_acc_history, 'o', label='%.2f dropout' % dropout)\n",
    "plt.title('Val accuracy')\n",
    "plt.xlabel('Epoch')\n",
    "plt.ylabel('Accuracy')\n",
    "plt.legend(ncol=2, loc='lower right')\n",
    "\n",
    "plt.gcf().set_size_inches(15, 15)\n",
    "plt.show()"
   ]
  },
  {
   "cell_type": "markdown",
   "metadata": {},
   "source": [
    "## Inline Question 2:\n",
    "Compare the validation and training accuracies with and without dropout -- what do your results suggest about dropout as a regularizer?"
   ]
  },
  {
   "cell_type": "markdown",
   "metadata": {},
   "source": [
    "## Answer:\n",
    "In my experiment, after using dropout in the model, the train accucy decrease a bit, but the validation accurucy also decrease. It is confusing that the vad_acc decrease. I think maybe the model doesn't suffer from the overfitting problem.  "
   ]
  },
  {
   "cell_type": "markdown",
   "metadata": {},
   "source": [
    "## Inline Question 3:\n",
    "Suppose we are training a deep fully-connected network for image classification, with dropout after hidden layers (parameterized by keep probability p). How should we modify p, if at all, if we decide to decrease the size of the hidden layers (that is, the number of nodes in each layer)?"
   ]
  },
  {
   "cell_type": "markdown",
   "metadata": {},
   "source": [
    "## Answer:\n",
    "Decreasing the size of the hidden layer means to reduce the complexity of the model, which may result in the reducing of probability of overfitting. So we can increase p to provent under-fitting."
   ]
  },
  {
   "cell_type": "code",
   "execution_count": null,
   "metadata": {
    "collapsed": true
   },
   "outputs": [],
   "source": []
  }
 ],
 "metadata": {
  "kernelspec": {
   "display_name": "Python 3",
   "language": "python",
   "name": "python3"
  },
  "language_info": {
   "codemirror_mode": {
    "name": "ipython",
    "version": 3
   },
   "file_extension": ".py",
   "mimetype": "text/x-python",
   "name": "python",
   "nbconvert_exporter": "python",
   "pygments_lexer": "ipython3",
   "version": "3.6.5"
  }
 },
 "nbformat": 4,
 "nbformat_minor": 2
}
